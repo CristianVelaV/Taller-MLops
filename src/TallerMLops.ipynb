{
 "cells": [
  {
   "cell_type": "code",
   "execution_count": 332,
   "id": "3ef4c7b4",
   "metadata": {},
   "outputs": [],
   "source": [
    "from sklearn.datasets import load_wine\n",
    "from sklearn.model_selection import train_test_split\n",
    "import pandas as pd\n",
    "from sklearn.dummy import DummyClassifier\n",
    "from sklearn.metrics import mean_squared_error, r2_score\n",
    "import numpy as np\n",
    "from sklearn.linear_model import LogisticRegression\n",
    "from sklearn.ensemble import RandomForestClassifier\n",
    "from sklearn.svm import SVC\n",
    "from sklearn.model_selection import GridSearchCV\n",
    "from sklearn.pipeline import Pipeline\n",
    "import joblib\n",
    "import json\n",
    "from datetime import date\n",
    "from sklearn.preprocessing import StandardScaler\n",
    "from sklearn.pipeline import make_pipeline\n",
    "from sklearn.metrics import (mean_squared_error, mean_absolute_error, r2_score,\n",
    "                             accuracy_score, precision_score, recall_score,\n",
    "                             f1_score, confusion_matrix, roc_auc_score, ConfusionMatrixDisplay)"
   ]
  },
  {
   "cell_type": "code",
   "execution_count": 333,
   "id": "81faa7bb",
   "metadata": {},
   "outputs": [],
   "source": [
    "vino = load_wine()"
   ]
  },
  {
   "cell_type": "code",
   "execution_count": 334,
   "id": "a5f65de5",
   "metadata": {},
   "outputs": [],
   "source": [
    "#EDA"
   ]
  },
  {
   "cell_type": "code",
   "execution_count": 335,
   "id": "c41b748f",
   "metadata": {},
   "outputs": [],
   "source": [
    "X_train, X_test, y_train, y_test = train_test_split(vino.data, vino.target, test_size=0.9, random_state=42)"
   ]
  },
  {
   "cell_type": "code",
   "execution_count": 336,
   "id": "96f27574",
   "metadata": {},
   "outputs": [
    {
     "name": "stdout",
     "output_type": "stream",
     "text": [
      "f1 score Base:  0.2082\n",
      "Matriz de confusión (Dummy Classifier):\n",
      "[[ 0 56  0]\n",
      " [ 0 61  0]\n",
      " [ 0 44  0]]\n"
     ]
    }
   ],
   "source": [
    "dummy = DummyClassifier()\n",
    "dummy.fit(X_train, y_train)\n",
    "y_pred_dummy = dummy.predict(X_test)\n",
    "\n",
    "f1_dummy = f1_score(y_test, y_pred_dummy, average=\"weighted\")\n",
    "\n",
    "print(f\"f1 score Base: {f1_dummy: .4f}\")\n",
    "\n",
    "cm_dummy = confusion_matrix(y_test, y_pred_dummy)\n",
    "\n",
    "print(\"Matriz de confusión (Dummy Classifier):\")\n",
    "print(cm_dummy)"
   ]
  },
  {
   "cell_type": "code",
   "execution_count": 337,
   "id": "bb62b7ec",
   "metadata": {},
   "outputs": [
    {
     "name": "stdout",
     "output_type": "stream",
     "text": [
      "f1 score Base:  0.8175\n",
      "Matriz de confusión (RandomForest):\n",
      "[[31 25  0]\n",
      " [ 1 58  2]\n",
      " [ 0  0 44]]\n"
     ]
    }
   ],
   "source": [
    "forest = RandomForestClassifier(random_state=42)\n",
    "forest.fit(X_train, y_train)\n",
    "y_pred_forest = forest.predict(X_test)\n",
    "\n",
    "f1_forest = f1_score(y_test, y_pred_forest, average=\"weighted\")\n",
    "\n",
    "print(f\"f1 score Base: {f1_forest: .4f}\")\n",
    "\n",
    "cm_forest = confusion_matrix(y_test, y_pred_forest)\n",
    "\n",
    "print(\"Matriz de confusión (RandomForest):\")\n",
    "print(cm_forest)"
   ]
  },
  {
   "cell_type": "code",
   "execution_count": 338,
   "id": "1b599a41",
   "metadata": {},
   "outputs": [
    {
     "name": "stdout",
     "output_type": "stream",
     "text": [
      "f1 score Base:  0.5599\n",
      "Matriz de confusión (RandomsuppVM):\n",
      "[[44 12  0]\n",
      " [ 1 60  0]\n",
      " [ 0 44  0]]\n"
     ]
    }
   ],
   "source": [
    "suppVM = SVC(random_state=42)\n",
    "suppVM.fit(X_train, y_train)\n",
    "y_pred_suppVM = suppVM.predict(X_test)\n",
    "\n",
    "f1_suppVM = f1_score(y_test, y_pred_suppVM, average=\"weighted\")\n",
    "\n",
    "print(f\"f1 score Base: {f1_suppVM: .4f}\")\n",
    "\n",
    "cm_suppVM = confusion_matrix(y_test, y_pred_suppVM)\n",
    "\n",
    "print(\"Matriz de confusión (RandomsuppVM):\")\n",
    "print(cm_suppVM)"
   ]
  },
  {
   "cell_type": "code",
   "execution_count": 339,
   "id": "62468532",
   "metadata": {},
   "outputs": [
    {
     "name": "stderr",
     "output_type": "stream",
     "text": [
      "C:\\Users\\bardo\\AppData\\Local\\Packages\\PythonSoftwareFoundation.Python.3.11_qbz5n2kfra8p0\\LocalCache\\local-packages\\Python311\\site-packages\\sklearn\\model_selection\\_split.py:811: UserWarning: The least populated class in y has only 3 members, which is less than n_splits=5.\n",
      "  warnings.warn(\n"
     ]
    },
    {
     "name": "stdout",
     "output_type": "stream",
     "text": [
      "Mejores parámetros: {'svc__C': 0.1, 'svc__gamma': 0.001, 'svc__kernel': 'linear'}\n",
      "Mejor F1 en validación cruzada: 1.0\n"
     ]
    }
   ],
   "source": [
    "param_grid = {\n",
    "    \"svc__C\": [0.1, 1, 10, 100],\n",
    "    \"svc__gamma\": [0.001, 0.01, 0.1, 1],\n",
    "    \"svc__kernel\": [\"linear\", \"rbf\", \"poly\"]\n",
    "}\n",
    "\n",
    "pipeline = Pipeline([\n",
    "    (\"scaler\", StandardScaler()),\n",
    "    (\"svc\", SVC())\n",
    "])\n",
    "\n",
    "grid = GridSearchCV(pipeline, param_grid, cv=5, scoring=\"f1_weighted\")\n",
    "grid.fit(X_train, y_train)\n",
    "\n",
    "print(\"Mejores parámetros:\", grid.best_params_)\n",
    "print(\"Mejor F1 en validación cruzada:\", grid.best_score_)"
   ]
  },
  {
   "cell_type": "code",
   "execution_count": 340,
   "id": "00d2db2a",
   "metadata": {},
   "outputs": [
    {
     "name": "stdout",
     "output_type": "stream",
     "text": [
      "F1 Score con SVC optimizado: 0.9003\n",
      "Matriz de confusión (Random Gr):\n",
      "[[45 11  0]\n",
      " [ 3 57  1]\n",
      " [ 0  1 43]]\n"
     ]
    }
   ],
   "source": [
    "best_model = grid.best_estimator_\n",
    "y_pred_best = best_model.predict(X_test)\n",
    "\n",
    "\n",
    "f1_best = f1_score(y_test, y_pred_best, average=\"weighted\")\n",
    "print(f\"F1 Score con SVC optimizado: {f1_best:.4f}\")\n",
    "\n",
    "cm_Gr = confusion_matrix(y_test, y_pred_best)\n",
    "\n",
    "print(\"Matriz de confusión (Random Gr):\")\n",
    "print(cm_Gr)"
   ]
  },
  {
   "cell_type": "code",
   "execution_count": 341,
   "id": "454bd992",
   "metadata": {},
   "outputs": [
    {
     "name": "stdout",
     "output_type": "stream",
     "text": [
      "f1 score Base:  0.9003\n",
      "Matriz de confusión (Random pipe_SuppVMO):\n",
      "[[45 11  0]\n",
      " [ 3 57  1]\n",
      " [ 0  1 43]]\n"
     ]
    }
   ],
   "source": [
    "pipe_SuppVMO= Pipeline([\n",
    "    (\"scaler\", StandardScaler()),\n",
    "    (\"svc\", SVC(kernel=\"linear\",gamma=0.001,C=0.1,random_state=42))\n",
    "])\n",
    "\n",
    "pipe_SuppVMO.fit(X_train, y_train)\n",
    "y_pred_pipe_SuppVMO = pipe_SuppVMO.predict(X_test)\n",
    "\n",
    "f1_pipe_SuppVMO = f1_score(y_test, y_pred_pipe_SuppVMO, average=\"weighted\")\n",
    "\n",
    "print(f\"f1 score Base: {f1_pipe_SuppVMO: .4f}\")\n",
    "\n",
    "cm_pipe_SuppVMO = confusion_matrix(y_test, y_pred_pipe_SuppVMO)\n",
    "\n",
    "print(\"Matriz de confusión (Random pipe_SuppVMO):\")\n",
    "print(cm_pipe_SuppVMO)"
   ]
  },
  {
   "cell_type": "code",
   "execution_count": 342,
   "id": "fddde57f",
   "metadata": {},
   "outputs": [
    {
     "name": "stdout",
     "output_type": "stream",
     "text": [
      "f1 score Base:  0.2082\n",
      "f1 score RandomForest:  0.8175\n",
      "f1 score SVC:  0.5599\n",
      "F1 Score SVC Grilla 0.9003\n"
     ]
    }
   ],
   "source": [
    "print(f\"f1 score Base: {f1_dummy: .4f}\")\n",
    "print(f\"f1 score RandomForest: {f1_forest: .4f}\")\n",
    "print(f\"f1 score SVC: {f1_suppVM: .4f}\")\n",
    "print(f\"F1 Score SVC Grilla {f1_best:.4f}\")"
   ]
  },
  {
   "cell_type": "code",
   "execution_count": 343,
   "id": "05e51a29",
   "metadata": {},
   "outputs": [
    {
     "data": {
      "text/plain": [
       "['ClasificadorVinos.joblib']"
      ]
     },
     "execution_count": 343,
     "metadata": {},
     "output_type": "execute_result"
    }
   ],
   "source": [
    "rf = pipe_SuppVMO.fit(X_train, y_train)\n",
    "joblib.dump(rf, \"ClasificadorVinos.joblib\")"
   ]
  },
  {
   "cell_type": "code",
   "execution_count": 344,
   "id": "b130c40e",
   "metadata": {},
   "outputs": [],
   "source": [
    "X = pd.DataFrame(vino.data, columns=vino.feature_names)\n",
    "metadata = {\n",
    "      \"model_name\": \"SVC\",\n",
    "      \"date\":str(date.today()) ,\n",
    "      \"f1_score\": \"weighted\" ,\n",
    "      \"features\": list(X.columns),\n",
    "      \"random_state\": 42,\n",
    "}\n",
    "\n",
    "with open(\"metadata.json\", \"w\") as f:\n",
    "  json.dump(metadata, f, indent = 4)"
   ]
  }
 ],
 "metadata": {
  "kernelspec": {
   "display_name": "Python 3",
   "language": "python",
   "name": "python3"
  },
  "language_info": {
   "codemirror_mode": {
    "name": "ipython",
    "version": 3
   },
   "file_extension": ".py",
   "mimetype": "text/x-python",
   "name": "python",
   "nbconvert_exporter": "python",
   "pygments_lexer": "ipython3",
   "version": "3.11.9"
  }
 },
 "nbformat": 4,
 "nbformat_minor": 5
}
